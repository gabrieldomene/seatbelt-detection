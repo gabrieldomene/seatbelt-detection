{
 "cells": [
  {
   "cell_type": "code",
   "execution_count": null,
   "metadata": {},
   "outputs": [],
   "source": [
    "'''\n",
    "Short script for rearrange dataset files, moving empty .txt or img in the dataset folder or any other operation\n",
    "needed between folders.\n",
    "'''\n",
    "import os"
   ]
  },
  {
   "cell_type": "code",
   "execution_count": null,
   "metadata": {},
   "outputs": [],
   "source": [
    "path = os.path.join(os.getcwd(), \"annotations\")\n",
    "print(path)"
   ]
  },
  {
   "cell_type": "code",
   "execution_count": null,
   "metadata": {},
   "outputs": [],
   "source": [
    "def list_empty(folder):\n",
    "    '''Search for empty files inside the dir and retrieve their names'''\n",
    "    path = os.path.join(os.getcwd(), folder)\n",
    "    count_empty = 0\n",
    "    name_empty = []\n",
    "    dir_content = sorted(os.listdir(path))\n",
    "    total_files = len(dir_content)\n",
    "    print(\"Found {} files\" .format(len(dir_content)))\n",
    "    for idx, arch in enumerate(dir_content):\n",
    "        try:\n",
    "            if not os.stat(os.path.join(path, arch)).st_size:\n",
    "                count_empty += 1\n",
    "                name_empty.append(arch)\n",
    "        except:\n",
    "            print(\"Error {}\" .format(arch))\n",
    "    return count_empty, name_empty, total_files, dir_content\n",
    "\n",
    "num_empty_img, name_empty_img, total_img, dir_content_img = list_empty(\"dataset\")\n",
    "\n",
    "print(\"\"\"\n",
    "Total files {}\n",
    "Non empty files {}\n",
    "Empty files {}\n",
    "\"\"\" .format(total_img, (total_img - num_empty_img), num_empty_img))\n",
    "\n",
    "num_empty_txt, name_empty_txt, total_txt, dir_content_txt = list_empty(\"annotations\")\n",
    "print(\"\"\"\n",
    "Total files {}\n",
    "Non empty files {}\n",
    "Empty files {}\n",
    "\"\"\" .format(total_txt, (total_txt - num_empty_txt), num_empty_txt))\n"
   ]
  },
  {
   "cell_type": "code",
   "execution_count": null,
   "metadata": {},
   "outputs": [],
   "source": [
    "def size_empty_images(name_empty):\n",
    "    byte_size = 0\n",
    "    path = os.path.join(os.getcwd(), \"dataset\")\n",
    "    name_empty = [image.replace(\".txt\", \".png\") for image in name_empty]\n",
    "    for idx, image in enumerate(name_empty):\n",
    "        try:\n",
    "            byte_size += os.stat(os.path.join(path, image)).st_size\n",
    "        except:\n",
    "            print(\"Error {}\" .format(image))\n",
    "    return byte_size, name_empty\n",
    "    \n",
    "size_saved, files_to_be_moved = size_empty_images(name_empty_txt)\n",
    "\n",
    "print(\"Storage saved {:.2f}GB\" .format(size_saved/1024**3))"
   ]
  },
  {
   "cell_type": "markdown",
   "metadata": {},
   "source": [
    "# Move empty files\n"
   ]
  },
  {
   "cell_type": "code",
   "execution_count": null,
   "metadata": {},
   "outputs": [],
   "source": [
    "# import shutil\n",
    "\n",
    "# final_path = os.getcwd() + \"/dataset_not_used\"\n",
    "# img_path = os.getcwd() + \"/dataset\"\n",
    "\n",
    "# # Para imagens\n",
    "# for file in files_to_be_moved:\n",
    "#     path_file = os.path.join(img_path, file)\n",
    "#     dest = shutil.move(path_file, final_path)"
   ]
  },
  {
   "cell_type": "code",
   "execution_count": null,
   "metadata": {},
   "outputs": [],
   "source": [
    "# # Para os txt\n",
    "# txt_path = os.getcwd() + \"/annotations\"\n",
    "# for file in name_empty_txt:\n",
    "#     path_file = os.path.join(txt_path, file)\n",
    "#     dest = shutil.move(path_file, final_path)"
   ]
  },
  {
   "cell_type": "markdown",
   "metadata": {},
   "source": [
    "# Merge data into one single folder"
   ]
  },
  {
   "cell_type": "code",
   "execution_count": null,
   "metadata": {},
   "outputs": [],
   "source": [
    "import shutil\n",
    "home_dir = os.getcwd()\n",
    "folders = [\"FOLDER1\", \"FOLDER2\", ... \"FOLDER N-1\", \"FOLDER N\"]\n",
    "\n",
    "destination_path = os.path.join(os.getcwd(), \"dataset\")\n",
    "count = 0\n",
    "for folder in folders:\n",
    "    os.chdir(folder)\n",
    "    content = os.listdir()\n",
    "    local_path = os.getcwd()\n",
    "    print(\"Folder {} has {} items\\n\".format(folder, len(content)))\n",
    "    for file in content:\n",
    "#         print(\"Old {} \\tNew {:05d}.png\".format(file, count))\n",
    "        old_file_path = os.path.join(os.getcwd(), file)\n",
    "        new_file_path = os.path.join(destination_path, \"{:05d}.png\".format(count))\n",
    "        shutil.copy(old_file_path, new_file_path)\n",
    "        count += 1\n",
    "    os.chdir(home_dir)"
   ]
  },
  {
   "cell_type": "code",
   "execution_count": null,
   "metadata": {},
   "outputs": [],
   "source": []
  }
 ],
 "metadata": {
  "kernelspec": {
   "display_name": "Python 3",
   "language": "python",
   "name": "python3"
  },
  "language_info": {
   "codemirror_mode": {
    "name": "ipython",
    "version": 3
   },
   "file_extension": ".py",
   "mimetype": "text/x-python",
   "name": "python",
   "nbconvert_exporter": "python",
   "pygments_lexer": "ipython3",
   "version": "3.7.7"
  }
 },
 "nbformat": 4,
 "nbformat_minor": 4
}
