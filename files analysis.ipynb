{
 "cells": [
  {
   "cell_type": "code",
   "execution_count": 8,
   "metadata": {},
   "outputs": [
    {
     "name": "stdout",
     "output_type": "stream",
     "text": [
      "/home/gabriel/Documents/repositories/seatbelt-detection\n"
     ]
    }
   ],
   "source": [
    "'''\n",
    "Short script for rearrange dataset files, moving empty .txt or img in the dataset folder, specificy action\n",
    "for scenario with dataset/ and annotations/\n",
    "'''\n",
    "import os\n",
    "print(os.getcwd())"
   ]
  },
  {
   "cell_type": "code",
   "execution_count": 13,
   "metadata": {},
   "outputs": [
    {
     "name": "stdout",
     "output_type": "stream",
     "text": [
      "/home/gabriel/Documents/repositories/seatbelt-detection/annotations\n"
     ]
    }
   ],
   "source": [
    "path = os.path.join(os.getcwd(), \"annotations\")\n",
    "print(path)"
   ]
  },
  {
   "cell_type": "code",
   "execution_count": 105,
   "metadata": {},
   "outputs": [
    {
     "name": "stdout",
     "output_type": "stream",
     "text": [
      "Found 2162 files\n",
      "\n",
      "Total files 2162\n",
      "Non empty files 2162\n",
      "Empty files 0\n",
      "\n",
      "Found 2163 files\n",
      "\n",
      "Total files 2163\n",
      "Non empty files 2163\n",
      "Empty files 0\n",
      "\n"
     ]
    }
   ],
   "source": [
    "def list_empty(folder):\n",
    "    '''Search for empty files inside the dir and retrieve their names'''\n",
    "    path = os.path.join(os.getcwd(), folder)\n",
    "    count_empty = 0\n",
    "    name_empty = []\n",
    "    dir_content = sorted(os.listdir(path))\n",
    "    total_files = len(dir_content)\n",
    "    print(\"Found {} files\" .format(len(dir_content)))\n",
    "    for idx, arch in enumerate(dir_content):\n",
    "        try:\n",
    "            if not os.stat(os.path.join(path, arch)).st_size:\n",
    "                count_empty += 1\n",
    "                name_empty.append(arch)\n",
    "        except:\n",
    "            print(\"Error {}\" .format(arch))\n",
    "    return count_empty, name_empty, total_files, dir_content\n",
    "\n",
    "num_empty_img, name_empty_img, total_img, dir_content_img = list_empty(\"dataset\")\n",
    "\n",
    "print(\"\"\"\n",
    "Total files {}\n",
    "Non empty files {}\n",
    "Empty files {}\n",
    "\"\"\" .format(total_img, (total_img - num_empty_img), num_empty_img))\n",
    "\n",
    "num_empty_txt, name_empty_txt, total_txt, dir_content_txt = list_empty(\"annotations\")\n",
    "print(\"\"\"\n",
    "Total files {}\n",
    "Non empty files {}\n",
    "Empty files {}\n",
    "\"\"\" .format(total_txt, (total_txt - num_empty_txt), num_empty_txt))\n"
   ]
  },
  {
   "cell_type": "code",
   "execution_count": 96,
   "metadata": {},
   "outputs": [
    {
     "name": "stdout",
     "output_type": "stream",
     "text": [
      "Storage saved 6.24GB\n"
     ]
    }
   ],
   "source": [
    "def size_empty_images(name_empty):\n",
    "    byte_size = 0\n",
    "    path = os.path.join(os.getcwd(), \"dataset\")\n",
    "    name_empty = [image.replace(\".txt\", \".png\") for image in name_empty]\n",
    "    for idx, image in enumerate(name_empty):\n",
    "        try:\n",
    "            byte_size += os.stat(os.path.join(path, image)).st_size\n",
    "        except:\n",
    "            print(\"Error {}\" .format(image))\n",
    "    return byte_size, name_empty\n",
    "    \n",
    "size_saved, files_to_be_moved = size_empty_images(name_empty_txt)\n",
    "\n",
    "print(\"Storage saved {:.2f}GB\" .format(size_saved/1024**3))"
   ]
  },
  {
   "cell_type": "markdown",
   "metadata": {},
   "source": [
    "# Mover arquivos vazios\n"
   ]
  },
  {
   "cell_type": "code",
   "execution_count": 101,
   "metadata": {},
   "outputs": [],
   "source": [
    "# import shutil\n",
    "\n",
    "# final_path = os.getcwd() + \"/dataset_not_used\"\n",
    "# img_path = os.getcwd() + \"/dataset\"\n",
    "\n",
    "# # Para imagens\n",
    "# for file in files_to_be_moved:\n",
    "#     path_file = os.path.join(img_path, file)\n",
    "#     dest = shutil.move(path_file, final_path)"
   ]
  },
  {
   "cell_type": "code",
   "execution_count": 104,
   "metadata": {},
   "outputs": [],
   "source": [
    "# # Para os txt\n",
    "# txt_path = os.getcwd() + \"/annotations\"\n",
    "# for file in name_empty_txt:\n",
    "#     path_file = os.path.join(txt_path, file)\n",
    "#     dest = shutil.move(path_file, final_path)"
   ]
  }
 ],
 "metadata": {
  "kernelspec": {
   "display_name": "Python 3",
   "language": "python",
   "name": "python3"
  },
  "language_info": {
   "codemirror_mode": {
    "name": "ipython",
    "version": 3
   },
   "file_extension": ".py",
   "mimetype": "text/x-python",
   "name": "python",
   "nbconvert_exporter": "python",
   "pygments_lexer": "ipython3",
   "version": "3.7.7"
  }
 },
 "nbformat": 4,
 "nbformat_minor": 4
}
