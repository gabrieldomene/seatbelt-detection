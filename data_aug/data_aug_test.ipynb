{
 "cells": [
  {
   "cell_type": "code",
   "execution_count": null,
   "metadata": {},
   "outputs": [],
   "source": [
    "\"\"\"\n",
    "Notebook for study purpose of data augmentation before applying to the dataset.\n",
    "\"\"\"\n",
    "\n",
    "import numpy as np\n",
    "import cv2\n",
    "import imgaug as ia\n",
    "import os\n",
    "import imageio\n",
    "import random\n",
    "from imgaug import augmenters as iaa"
   ]
  },
  {
   "cell_type": "markdown",
   "metadata": {},
   "source": [
    "# Load files from dir"
   ]
  },
  {
   "cell_type": "code",
   "execution_count": null,
   "metadata": {},
   "outputs": [],
   "source": [
    "content = [image for image in os.listdir(\"data_test/\") if image.endswith(\".png\")]"
   ]
  },
  {
   "cell_type": "markdown",
   "metadata": {},
   "source": [
    "# Image Shear X"
   ]
  },
  {
   "cell_type": "code",
   "execution_count": null,
   "metadata": {},
   "outputs": [],
   "source": [
    "shearX = iaa.ShearX((-10, 10))\n",
    "image_aug = shearX(image=img)\n",
    "\n",
    "ia.imshow(np.hstack([img, image_aug]))"
   ]
  },
  {
   "cell_type": "markdown",
   "metadata": {},
   "source": [
    "# Image CLAHE"
   ]
  },
  {
   "cell_type": "code",
   "execution_count": null,
   "metadata": {
    "scrolled": false
   },
   "outputs": [],
   "source": [
    "clahe = iaa.AllChannelsCLAHE(clip_limit=(1, 7))\n",
    "clahe_local = iaa.CLAHE(clip_limit=(1, 7))\n",
    "for _ in range(10):\n",
    "    img = imageio.imread(\"data_test/{}\".format(random.choice(content)))\n",
    "    image_aug_clahe2 = clahe_local(image=img)\n",
    "    image_aug = clahe(image=img)\n",
    "    print(\"Original \\t\\t\\t\\t\\t CLAHE all channels \\t\\t\\t CLAHE IN LVL only\")\n",
    "    ia.imshow(np.hstack([img, image_aug, image_aug_clahe2]))"
   ]
  },
  {
   "cell_type": "markdown",
   "metadata": {},
   "source": [
    "# Gamma correction"
   ]
  },
  {
   "cell_type": "code",
   "execution_count": null,
   "metadata": {
    "scrolled": false
   },
   "outputs": [],
   "source": [
    "gamma_up = iaa.GammaContrast((1.2, 2.0))\n",
    "gamma_down = iaa.GammaContrast((0.5, 1))\n",
    "\n",
    "for _ in range(10):\n",
    "    img = imageio.imread(\"data_test/{}\".format(random.choice(content)))\n",
    "    img_gamma_up = gamma_up(image=img)\n",
    "    img_gamma_down = gamma_down(image=img)\n",
    "    print(\"Original \\t\\t\\t\\t\\t GAMMA DOWN \\t\\t\\t GAMMA UP\")\n",
    "    ia.imshow(np.hstack([img, img_gamma_up, img_gamma_down]))"
   ]
  },
  {
   "cell_type": "markdown",
   "metadata": {},
   "source": [
    "# Image rotation"
   ]
  },
  {
   "cell_type": "code",
   "execution_count": null,
   "metadata": {
    "scrolled": false
   },
   "outputs": [],
   "source": [
    "rotate = iaa.Rotate((-45, 45))\n",
    "\n",
    "for _ in range(10):\n",
    "    img = imageio.imread(\"data_test/{}\".format(random.choice(content)))\n",
    "    image_aug = rotate(image=img)\n",
    "    print(\"Original \\t\\t\\t\\t\\t\\t\\t Rotation\")\n",
    "    ia.imshow(np.hstack([img, image_aug]))"
   ]
  },
  {
   "cell_type": "markdown",
   "metadata": {},
   "source": [
    "# Flip images"
   ]
  },
  {
   "cell_type": "code",
   "execution_count": null,
   "metadata": {
    "scrolled": false
   },
   "outputs": [],
   "source": [
    "flip = iaa.Fliplr(1)\n",
    "\n",
    "for _ in range(10):\n",
    "    img = imageio.imread(\"data_test/{}\".format(random.choice(content)))\n",
    "    image_aug = flip(image=img)\n",
    "    print(\"Original \\t\\t\\t\\t\\t\\t\\t\\t FLIP\")\n",
    "    ia.imshow(np.hstack([img, image_aug]))"
   ]
  },
  {
   "cell_type": "markdown",
   "metadata": {},
   "source": [
    "# Resizing"
   ]
  },
  {
   "cell_type": "code",
   "execution_count": null,
   "metadata": {
    "scrolled": false
   },
   "outputs": [],
   "source": [
    "for _ in range(10):\n",
    "    img = imageio.imread(\"data_test/{}\".format(random.choice(content)))\n",
    "    height, width = img.shape[:2]\n",
    "    resize_and_crop = iaa.Sequential([\n",
    "        iaa.Resize({\"height\": (1.1, 1.75), \"width\": (1.1, 1.5)}),\n",
    "        iaa.CropToFixedSize(width=width, height=height)\n",
    "    ])\n",
    "    image_aug = resize_and_crop(image=img)\n",
    "    print(\"Original \\t\\t\\t\\t\\t\\t\\t\\t RESIZED\")\n",
    "    ia.imshow(np.hstack([img, image_aug]))"
   ]
  },
  {
   "cell_type": "markdown",
   "metadata": {},
   "source": [
    "# Pixel noise"
   ]
  },
  {
   "cell_type": "code",
   "execution_count": null,
   "metadata": {
    "scrolled": false
   },
   "outputs": [],
   "source": [
    "noise = iaa.AdditiveGaussianNoise(scale=(0, 0.2*255))\n",
    "\n",
    "for _ in range(10):\n",
    "    img = imageio.imread(\"data_test/{}\".format(random.choice(content)))\n",
    "    image_aug = noise(image=img)\n",
    "    print(\"Original \\t\\t\\t\\t\\t\\t\\t\\t NOISE\")\n",
    "    ia.imshow(np.hstack([img, image_aug]))"
   ]
  },
  {
   "cell_type": "code",
   "execution_count": null,
   "metadata": {
    "scrolled": false
   },
   "outputs": [],
   "source": [
    "blur = iaa.GaussianBlur(sigma=(0.0, 3.0))\n",
    "\n",
    "for _ in range(10):\n",
    "    img = imageio.imread(\"data_test/{}\".format(random.choice(content)))\n",
    "    image_aug = blur(image=img)\n",
    "    print(\"Original \\t\\t\\t\\t\\t\\t\\t\\t BLUR\")\n",
    "    ia.imshow(np.hstack([img, image_aug]))"
   ]
  }
 ],
 "metadata": {
  "kernelspec": {
   "display_name": "Python 3",
   "language": "python",
   "name": "python3"
  },
  "language_info": {
   "codemirror_mode": {
    "name": "ipython",
    "version": 3
   },
   "file_extension": ".py",
   "mimetype": "text/x-python",
   "name": "python",
   "nbconvert_exporter": "python",
   "pygments_lexer": "ipython3",
   "version": "3.7.7"
  }
 },
 "nbformat": 4,
 "nbformat_minor": 4
}
